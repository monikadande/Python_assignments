{
  "nbformat": 4,
  "nbformat_minor": 0,
  "metadata": {
    "colab": {
      "provenance": []
    },
    "kernelspec": {
      "name": "python3",
      "display_name": "Python 3"
    },
    "language_info": {
      "name": "python"
    }
  },
  "cells": [
    {
      "cell_type": "markdown",
      "source": [
        "*** USE THE CONCEPT OF LOOPS TO SOLVE THE BELOW PROGRAMS***"
      ],
      "metadata": {
        "id": "LntIlHO5OfPf"
      }
    },
    {
      "cell_type": "markdown",
      "source": [
        "1) Python program to count the total number of digits in a number.\n",
        "\n",
        "TAKE THE INPUT NUMBER : 123456\n",
        "\n",
        "\n",
        "\n"
      ],
      "metadata": {
        "id": "vxHfbNtoOfRV"
      }
    },
    {
      "cell_type": "code",
      "source": [
        "#wRITE YOUR CODE HERE\n",
        "a=int(input())\n",
        "c=0\n",
        "while a!=0 :\n",
        "  a //= 10\n",
        "  c += 1\n",
        "print(c)"
      ],
      "metadata": {
        "id": "_PKg5umLO2-q",
        "colab": {
          "base_uri": "https://localhost:8080/"
        },
        "outputId": "db41fff0-b97b-47f7-b70e-773158bd34e2"
      },
      "execution_count": null,
      "outputs": [
        {
          "output_type": "stream",
          "name": "stdout",
          "text": [
            "123456\n",
            "6\n"
          ]
        }
      ]
    },
    {
      "cell_type": "markdown",
      "source": [
        "2) Python program to count the number of even and odd numbers from a series of numbers.\n",
        "\n",
        "num_list = [1,3,5,6,99,134,55]"
      ],
      "metadata": {
        "id": "bXf8Z8feOfTn"
      }
    },
    {
      "cell_type": "code",
      "source": [
        "#WRITE YOUR CODE HERE\n",
        "num_list=[1,3,5,6,99,134,55]\n",
        "even=0\n",
        "odd=0\n",
        "for num in num_list:\n",
        "  if num%2==0:\n",
        "    even += 1\n",
        "  else :\n",
        "    odd += 1\n",
        "print('Even : ',even, ' ','Odd : ',odd)"
      ],
      "metadata": {
        "id": "QzZjjwRCPIip",
        "colab": {
          "base_uri": "https://localhost:8080/"
        },
        "outputId": "961a4e1d-36ce-44db-93e0-bed77dfcb21e"
      },
      "execution_count": null,
      "outputs": [
        {
          "output_type": "stream",
          "name": "stdout",
          "text": [
            "Even :  2   Odd :  5\n"
          ]
        }
      ]
    },
    {
      "cell_type": "markdown",
      "source": [
        "3) Python program to get the Fibonacci series between 0 to 50."
      ],
      "metadata": {
        "id": "Ae6CdE7hOfWZ"
      }
    },
    {
      "cell_type": "code",
      "source": [
        "#WRITE YOUR CODE HERE\n",
        "n=int(input())\n",
        "f1, f2 = 0, 1\n",
        "while f2 <= n:\n",
        "  print(f2)\n",
        "  f1, f2 = f2, f1+f2\n",
        "print()"
      ],
      "metadata": {
        "id": "_IIZYCLPPTwI",
        "colab": {
          "base_uri": "https://localhost:8080/"
        },
        "outputId": "d2de8cde-8d99-40b6-8a01-72296e451bdf"
      },
      "execution_count": null,
      "outputs": [
        {
          "output_type": "stream",
          "name": "stdout",
          "text": [
            "50\n",
            "1\n",
            "1\n",
            "2\n",
            "3\n",
            "5\n",
            "8\n",
            "13\n",
            "21\n",
            "34\n",
            "\n"
          ]
        }
      ]
    },
    {
      "cell_type": "code",
      "source": [],
      "metadata": {
        "id": "r64vC748T-v-"
      },
      "execution_count": null,
      "outputs": []
    },
    {
      "cell_type": "markdown",
      "source": [
        "4) Python program that accepts a string and calculates the number of digits and letters.\n",
        "\n",
        "Input\n",
        "\n",
        "WEBBLINDERS1234"
      ],
      "metadata": {
        "id": "VYbquVMROfZz"
      }
    },
    {
      "cell_type": "code",
      "source": [
        "#WRITE YOUR CODE HERE\n",
        "string=input()\n",
        "l=0\n",
        "n=0\n",
        "for char in string:\n",
        "  if char.isalpha():\n",
        "    l += 1\n",
        "  elif char.isdigit():\n",
        "    n += 1\n",
        "print('Letters : ',l,' ','Numbers : ',n)"
      ],
      "metadata": {
        "id": "iGYeja7XPop3",
        "colab": {
          "base_uri": "https://localhost:8080/"
        },
        "outputId": "97dd0c70-ba35-4d5e-d2af-e85576872a2a"
      },
      "execution_count": null,
      "outputs": [
        {
          "output_type": "stream",
          "name": "stdout",
          "text": [
            "WEBBLINDERS1234\n",
            "Letters :  11   Numbers :  4\n"
          ]
        }
      ]
    },
    {
      "cell_type": "markdown",
      "source": [
        "5) Python program to display all numbers within a range except the prime numbers.\n",
        "\n",
        "INPUT RANGE : 30 TO 80"
      ],
      "metadata": {
        "id": "RiVenPeDPqs_"
      }
    },
    {
      "cell_type": "code",
      "source": [
        "#WRITE YOUR CODE HERE\n",
        "def is_prime(num):\n",
        "  if num < 2:\n",
        "        return False\n",
        "  for i in range(2, int(num ** 0.5) + 1):\n",
        "        if num % i == 0:\n",
        "            return False\n",
        "  return True\n",
        "def display_nonprimes(start,end):\n",
        "  for num in range(start, end + 1):\n",
        "        if not is_prime(num):\n",
        "            print(num, end=\" \")\n",
        "start=int(input())\n",
        "end=int(input())\n",
        "display_nonprimes(start,end)"
      ],
      "metadata": {
        "id": "UTm21ayAPX02",
        "colab": {
          "base_uri": "https://localhost:8080/"
        },
        "outputId": "862bea6b-95e3-4664-c58f-de970fa8ef2b"
      },
      "execution_count": null,
      "outputs": [
        {
          "output_type": "stream",
          "name": "stdout",
          "text": [
            "30\n",
            "80\n",
            "30 32 33 34 35 36 38 39 40 42 44 45 46 48 49 50 51 52 54 55 56 57 58 60 62 63 64 65 66 68 69 70 72 74 75 76 77 78 80 "
          ]
        }
      ]
    }
  ]
}