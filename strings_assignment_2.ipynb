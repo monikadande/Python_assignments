{
  "nbformat": 4,
  "nbformat_minor": 0,
  "metadata": {
    "colab": {
      "provenance": [],
      "toc_visible": true
    },
    "kernelspec": {
      "name": "python3",
      "display_name": "Python 3"
    },
    "language_info": {
      "name": "python"
    }
  },
  "cells": [
    {
      "cell_type": "markdown",
      "source": [
        "## Strings Assignment 2"
      ],
      "metadata": {
        "id": "EPGLodluvWuN"
      }
    },
    {
      "cell_type": "markdown",
      "source": [
        "1.Write a Python program to reverse a string.\n",
        "\n",
        "input : hellohowareyoudoingandhowisyourhealth"
      ],
      "metadata": {
        "id": "ddM5gMtivkoi"
      }
    },
    {
      "cell_type": "code",
      "source": [
        "# write your code here"
      ],
      "metadata": {
        "id": "RnP576ZZvtLH"
      },
      "execution_count": 1,
      "outputs": []
    },
    {
      "cell_type": "markdown",
      "source": [
        "2.Write a Python program to capitalize the first letter of each word in a sentence.\n",
        "\n",
        "input : hello welcome to internship"
      ],
      "metadata": {
        "id": "jEVFoo3evnhr"
      }
    },
    {
      "cell_type": "code",
      "source": [
        "# write your code here"
      ],
      "metadata": {
        "id": "CTP3QwiGwT93"
      },
      "execution_count": 2,
      "outputs": []
    },
    {
      "cell_type": "markdown",
      "source": [
        "3.Write a Python program to find the longest word in a sentence.\n",
        "\n",
        "input : \"he is very good at painting and paint good sketches\""
      ],
      "metadata": {
        "id": "LiGvyCoVvnyC"
      }
    },
    {
      "cell_type": "code",
      "source": [
        "# write your code here"
      ],
      "metadata": {
        "id": "clATuC3cwwPI"
      },
      "execution_count": 3,
      "outputs": []
    },
    {
      "cell_type": "markdown",
      "source": [
        "4.Write a Python program to find the length of the last word in a sentence.\n",
        "\n",
        "input : this is the most beautiful beach I ever visited"
      ],
      "metadata": {
        "id": "-QhCplQjvn0w"
      }
    },
    {
      "cell_type": "code",
      "source": [
        "# write your code here"
      ],
      "metadata": {
        "id": "QwzbahlkxGZ-"
      },
      "execution_count": 4,
      "outputs": []
    },
    {
      "cell_type": "markdown",
      "source": [
        "5.Write a Python program to find the second most frequent character in a string.\n",
        "\n",
        "input: the hospital is very big and this hospital has so many doctors"
      ],
      "metadata": {
        "id": "cZiXxZhsvn6q"
      }
    },
    {
      "cell_type": "code",
      "source": [
        "# write your code here"
      ],
      "metadata": {
        "id": "EnHquuoCxi7F"
      },
      "execution_count": null,
      "outputs": []
    }
  ]
}